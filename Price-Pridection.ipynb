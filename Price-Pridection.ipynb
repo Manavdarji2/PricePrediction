{
 "cells": [
  {
   "cell_type": "markdown",
   "metadata": {},
   "source": [
    "# **Import the Libraries for the project** #"
   ]
  },
  {
   "cell_type": "code",
   "execution_count": 1,
   "metadata": {},
   "outputs": [],
   "source": [
    "import pandas as pd\n",
    "from sklearn.model_selection import train_test_split\n",
    "from sklearn.linear_model import LinearRegression\n",
    "import matplotlib.pyplot as plt\n",
    "import numpy as np"
   ]
  },
  {
   "cell_type": "markdown",
   "metadata": {},
   "source": [
    "## **Load the Dataset** ##"
   ]
  },
  {
   "cell_type": "code",
   "execution_count": 2,
   "metadata": {},
   "outputs": [],
   "source": [
    "df=pd.read_csv(\"house_price_mumbai.csv\")"
   ]
  },
  {
   "cell_type": "markdown",
   "metadata": {},
   "source": [
    "# **Remove the Cr and L and convert all into Cr value** #\n",
    "\n",
    "# **Remove ',' from the column of prise Square-Feet** #\n",
    "\n",
    "# **Remove East and West in Location** #"
   ]
  },
  {
   "cell_type": "code",
   "execution_count": 3,
   "metadata": {},
   "outputs": [],
   "source": [
    "def Replace(text:str):\n",
    "    if 'Cr' in text:\n",
    "        value=float(text.replace(' Cr',''))\n",
    "    elif 'L' in text:\n",
    "        value=float(text.replace(' L',''))/100\n",
    "    return value\n"
   ]
  },
  {
   "cell_type": "code",
   "execution_count": 4,
   "metadata": {
    "notebookRunGroups": {
     "groupValue": "1"
    }
   },
   "outputs": [],
   "source": [
    "def remove_Comma(str):\n",
    "    value=''\n",
    "    for i in str:\n",
    "        if i != ',':\n",
    "            value += i\n",
    "    return int(value)"
   ]
  },
  {
   "cell_type": "code",
   "execution_count": 5,
   "metadata": {},
   "outputs": [],
   "source": [
    "def Remove_East_west(text):\n",
    "    # Remove east and west from the text\n",
    "    text = text.replace(' east', '').replace(' west', '').replace(' EAST', '').replace(' WEST', '').replace(' East', '').replace(' West', '')\n",
    "    return text"
   ]
  },
  {
   "cell_type": "markdown",
   "metadata": {},
   "source": [
    "**Apply the Replace to Convert all value into Cr value in float DataType**\n",
    "\n",
    "**Apply the Remove Comma to remove comma in Price_sqt**\n",
    "\n",
    "**Apply the Remove_east_west to minimize**"
   ]
  },
  {
   "cell_type": "code",
   "execution_count": 6,
   "metadata": {},
   "outputs": [],
   "source": [
    "df['price_cr']=df['price'].apply(Replace)\n",
    "df['price_sqft']=df['price_sqft'].apply(remove_Comma)\n",
    "df['Location']=df['Location'].apply(Remove_East_west)\n",
    "df.drop(columns=['price', 'project', 'City'], inplace=True)\n"
   ]
  },
  {
   "cell_type": "markdown",
   "metadata": {},
   "source": [
    "<h2>Get the insight of the data with describe and info<h2>"
   ]
  },
  {
   "cell_type": "code",
   "execution_count": 7,
   "metadata": {},
   "outputs": [
    {
     "name": "stdout",
     "output_type": "stream",
     "text": [
      "<class 'pandas.core.frame.DataFrame'>\n",
      "RangeIndex: 3980 entries, 0 to 3979\n",
      "Data columns (total 5 columns):\n",
      " #   Column      Non-Null Count  Dtype  \n",
      "---  ------      --------------  -----  \n",
      " 0   BHK         3980 non-null   object \n",
      " 1   Location    3980 non-null   object \n",
      " 2   Total sqft  3980 non-null   int64  \n",
      " 3   price_sqft  3980 non-null   int64  \n",
      " 4   price_cr    3980 non-null   float64\n",
      "dtypes: float64(1), int64(2), object(2)\n",
      "memory usage: 155.6+ KB\n"
     ]
    }
   ],
   "source": [
    "df.info()"
   ]
  },
  {
   "cell_type": "code",
   "execution_count": 8,
   "metadata": {},
   "outputs": [
    {
     "data": {
      "text/html": [
       "<div>\n",
       "<style scoped>\n",
       "    .dataframe tbody tr th:only-of-type {\n",
       "        vertical-align: middle;\n",
       "    }\n",
       "\n",
       "    .dataframe tbody tr th {\n",
       "        vertical-align: top;\n",
       "    }\n",
       "\n",
       "    .dataframe thead th {\n",
       "        text-align: right;\n",
       "    }\n",
       "</style>\n",
       "<table border=\"1\" class=\"dataframe\">\n",
       "  <thead>\n",
       "    <tr style=\"text-align: right;\">\n",
       "      <th></th>\n",
       "      <th>Total sqft</th>\n",
       "      <th>price_sqft</th>\n",
       "      <th>price_cr</th>\n",
       "    </tr>\n",
       "  </thead>\n",
       "  <tbody>\n",
       "    <tr>\n",
       "      <th>count</th>\n",
       "      <td>3980.000000</td>\n",
       "      <td>3980.000000</td>\n",
       "      <td>3980.000000</td>\n",
       "    </tr>\n",
       "    <tr>\n",
       "      <th>mean</th>\n",
       "      <td>895.417588</td>\n",
       "      <td>11938.309799</td>\n",
       "      <td>1.122412</td>\n",
       "    </tr>\n",
       "    <tr>\n",
       "      <th>std</th>\n",
       "      <td>688.831332</td>\n",
       "      <td>10154.348760</td>\n",
       "      <td>1.708743</td>\n",
       "    </tr>\n",
       "    <tr>\n",
       "      <th>min</th>\n",
       "      <td>127.000000</td>\n",
       "      <td>114.000000</td>\n",
       "      <td>0.012500</td>\n",
       "    </tr>\n",
       "    <tr>\n",
       "      <th>25%</th>\n",
       "      <td>590.000000</td>\n",
       "      <td>4818.500000</td>\n",
       "      <td>0.282950</td>\n",
       "    </tr>\n",
       "    <tr>\n",
       "      <th>50%</th>\n",
       "      <td>717.000000</td>\n",
       "      <td>9000.000000</td>\n",
       "      <td>0.640000</td>\n",
       "    </tr>\n",
       "    <tr>\n",
       "      <th>75%</th>\n",
       "      <td>1060.000000</td>\n",
       "      <td>16172.750000</td>\n",
       "      <td>1.330000</td>\n",
       "    </tr>\n",
       "    <tr>\n",
       "      <th>max</th>\n",
       "      <td>16000.000000</td>\n",
       "      <td>92592.000000</td>\n",
       "      <td>30.000000</td>\n",
       "    </tr>\n",
       "  </tbody>\n",
       "</table>\n",
       "</div>"
      ],
      "text/plain": [
       "         Total sqft    price_sqft     price_cr\n",
       "count   3980.000000   3980.000000  3980.000000\n",
       "mean     895.417588  11938.309799     1.122412\n",
       "std      688.831332  10154.348760     1.708743\n",
       "min      127.000000    114.000000     0.012500\n",
       "25%      590.000000   4818.500000     0.282950\n",
       "50%      717.000000   9000.000000     0.640000\n",
       "75%     1060.000000  16172.750000     1.330000\n",
       "max    16000.000000  92592.000000    30.000000"
      ]
     },
     "execution_count": 8,
     "metadata": {},
     "output_type": "execute_result"
    }
   ],
   "source": [
    "df.describe()"
   ]
  },
  {
   "cell_type": "markdown",
   "metadata": {},
   "source": [
    "# **Data pre-processing** #"
   ]
  },
  {
   "cell_type": "code",
   "execution_count": 9,
   "metadata": {},
   "outputs": [],
   "source": [
    "values=pd.DataFrame(df['Location'].value_counts()).reset_index()\n",
    "values.columns = ['Location', 'Count']\n",
    "remove_this_rows=[]\n",
    "for i in range(len(values)):\n",
    "    if values['Count'][i] < 25:\n",
    "        remove_this_rows.append(values['Location'][i])\n",
    "\n",
    "df = df[~df['Location'].isin(remove_this_rows)].reset_index()"
   ]
  },
  {
   "cell_type": "code",
   "execution_count": 10,
   "metadata": {},
   "outputs": [],
   "source": [
    "df.drop(columns=['index'], inplace=True)"
   ]
  },
  {
   "cell_type": "markdown",
   "metadata": {},
   "source": [
    "# **Remove this rows for of Any other from the 1, 2, 3, 4, and 5 BHK and take into dataframe** #"
   ]
  },
  {
   "cell_type": "code",
   "execution_count": 11,
   "metadata": {},
   "outputs": [],
   "source": [
    "values=pd.DataFrame(df['BHK'].value_counts()).reset_index()\n",
    "remove_this_rows=['R','5 BHK Apartment', '5 BHK Independent House','1 BHK Independent House','3 BHK Independent House',\n",
    "                  '3 BHK Villa', '2 BHK Independent Floor', '6 BHK Independent Floor', '2 RK Studio Apartment', '3 BHK Independent Floor',\n",
    "                  '2 BHK Independent House']\n",
    "values.columns = ['Location', 'Count']\n",
    "df=df[~df['BHK'].isin(remove_this_rows)].reset_index()"
   ]
  },
  {
   "cell_type": "code",
   "execution_count": 12,
   "metadata": {},
   "outputs": [],
   "source": [
    "df.drop(columns=['index'], inplace=True)"
   ]
  },
  {
   "cell_type": "markdown",
   "metadata": {},
   "source": [
    "# **Fromate the 1, 2, 3, 4 and 5 such that mdoel and check only the this much data** #"
   ]
  },
  {
   "cell_type": "code",
   "execution_count": 13,
   "metadata": {},
   "outputs": [],
   "source": [
    "def Df_to_fromat(text):\n",
    "    list_need_to_append_BHK_Apartment=['1', '2', '3', '4', '5']\n",
    "    if text in list_need_to_append_BHK_Apartment:\n",
    "        return str(text) + ' BHK Apartment'\n",
    "    return text"
   ]
  },
  {
   "cell_type": "code",
   "execution_count": 14,
   "metadata": {},
   "outputs": [],
   "source": [
    "df['BHK']=df['BHK'].apply(Df_to_fromat)"
   ]
  },
  {
   "cell_type": "markdown",
   "metadata": {},
   "source": [
    "# **Take the info from 1 BHK to 1 is the major info that i need for the project** #"
   ]
  },
  {
   "cell_type": "code",
   "execution_count": 15,
   "metadata": {},
   "outputs": [],
   "source": [
    "def BHK_no(text):\n",
    "    list_need_to_No_BHK_Apartment=['1', '2', '3', '4','5']\n",
    "    for i in list_need_to_No_BHK_Apartment:\n",
    "        if i in text:\n",
    "            return int(i)\n",
    "    "
   ]
  },
  {
   "cell_type": "code",
   "execution_count": 16,
   "metadata": {},
   "outputs": [],
   "source": [
    "df['bhk_no']=df['BHK'].apply(BHK_no)"
   ]
  },
  {
   "cell_type": "markdown",
   "metadata": {},
   "source": [
    "## **Conevrt the bhk_no form float to int32 data type** ##"
   ]
  },
  {
   "cell_type": "code",
   "execution_count": 17,
   "metadata": {},
   "outputs": [],
   "source": [
    "df['bhk_no']=df['bhk_no'].convert_dtypes('int32')"
   ]
  },
  {
   "cell_type": "code",
   "execution_count": 18,
   "metadata": {},
   "outputs": [
    {
     "data": {
      "text/html": [
       "<div>\n",
       "<style scoped>\n",
       "    .dataframe tbody tr th:only-of-type {\n",
       "        vertical-align: middle;\n",
       "    }\n",
       "\n",
       "    .dataframe tbody tr th {\n",
       "        vertical-align: top;\n",
       "    }\n",
       "\n",
       "    .dataframe thead th {\n",
       "        text-align: right;\n",
       "    }\n",
       "</style>\n",
       "<table border=\"1\" class=\"dataframe\">\n",
       "  <thead>\n",
       "    <tr style=\"text-align: right;\">\n",
       "      <th></th>\n",
       "      <th>BHK</th>\n",
       "      <th>Location</th>\n",
       "      <th>Total sqft</th>\n",
       "      <th>price_sqft</th>\n",
       "      <th>price_cr</th>\n",
       "      <th>bhk_no</th>\n",
       "    </tr>\n",
       "  </thead>\n",
       "  <tbody>\n",
       "    <tr>\n",
       "      <th>0</th>\n",
       "      <td>3 BHK Apartment</td>\n",
       "      <td>Chembur</td>\n",
       "      <td>984</td>\n",
       "      <td>31000</td>\n",
       "      <td>3.0500</td>\n",
       "      <td>3</td>\n",
       "    </tr>\n",
       "    <tr>\n",
       "      <th>1</th>\n",
       "      <td>2 BHK Apartment</td>\n",
       "      <td>Kurla</td>\n",
       "      <td>598</td>\n",
       "      <td>23913</td>\n",
       "      <td>1.4200</td>\n",
       "      <td>2</td>\n",
       "    </tr>\n",
       "    <tr>\n",
       "      <th>2</th>\n",
       "      <td>2 BHK Apartment</td>\n",
       "      <td>Malad</td>\n",
       "      <td>738</td>\n",
       "      <td>21000</td>\n",
       "      <td>1.5400</td>\n",
       "      <td>2</td>\n",
       "    </tr>\n",
       "    <tr>\n",
       "      <th>3</th>\n",
       "      <td>3 BHK Apartment</td>\n",
       "      <td>Rasayani</td>\n",
       "      <td>644</td>\n",
       "      <td>10676</td>\n",
       "      <td>0.6875</td>\n",
       "      <td>3</td>\n",
       "    </tr>\n",
       "    <tr>\n",
       "      <th>4</th>\n",
       "      <td>2 BHK Apartment</td>\n",
       "      <td>Neral</td>\n",
       "      <td>427</td>\n",
       "      <td>5756</td>\n",
       "      <td>0.2458</td>\n",
       "      <td>2</td>\n",
       "    </tr>\n",
       "    <tr>\n",
       "      <th>...</th>\n",
       "      <td>...</td>\n",
       "      <td>...</td>\n",
       "      <td>...</td>\n",
       "      <td>...</td>\n",
       "      <td>...</td>\n",
       "      <td>...</td>\n",
       "    </tr>\n",
       "    <tr>\n",
       "      <th>3375</th>\n",
       "      <td>2 BHK Apartment</td>\n",
       "      <td>Vasai</td>\n",
       "      <td>966</td>\n",
       "      <td>4968</td>\n",
       "      <td>0.4800</td>\n",
       "      <td>2</td>\n",
       "    </tr>\n",
       "    <tr>\n",
       "      <th>3376</th>\n",
       "      <td>1 BHK Apartment</td>\n",
       "      <td>Naigaon</td>\n",
       "      <td>500</td>\n",
       "      <td>5200</td>\n",
       "      <td>0.2600</td>\n",
       "      <td>1</td>\n",
       "    </tr>\n",
       "    <tr>\n",
       "      <th>3377</th>\n",
       "      <td>1 BHK Apartment</td>\n",
       "      <td>Naigaon</td>\n",
       "      <td>610</td>\n",
       "      <td>5573</td>\n",
       "      <td>0.3400</td>\n",
       "      <td>1</td>\n",
       "    </tr>\n",
       "    <tr>\n",
       "      <th>3378</th>\n",
       "      <td>1 BHK Apartment</td>\n",
       "      <td>Naigaon</td>\n",
       "      <td>610</td>\n",
       "      <td>5245</td>\n",
       "      <td>0.3200</td>\n",
       "      <td>1</td>\n",
       "    </tr>\n",
       "    <tr>\n",
       "      <th>3379</th>\n",
       "      <td>1 BHK Apartment</td>\n",
       "      <td>Naigaon</td>\n",
       "      <td>590</td>\n",
       "      <td>6101</td>\n",
       "      <td>0.3600</td>\n",
       "      <td>1</td>\n",
       "    </tr>\n",
       "  </tbody>\n",
       "</table>\n",
       "<p>3380 rows × 6 columns</p>\n",
       "</div>"
      ],
      "text/plain": [
       "                  BHK  Location  Total sqft  price_sqft  price_cr  bhk_no\n",
       "0     3 BHK Apartment   Chembur         984       31000    3.0500       3\n",
       "1     2 BHK Apartment     Kurla         598       23913    1.4200       2\n",
       "2     2 BHK Apartment     Malad         738       21000    1.5400       2\n",
       "3     3 BHK Apartment  Rasayani         644       10676    0.6875       3\n",
       "4     2 BHK Apartment     Neral         427        5756    0.2458       2\n",
       "...               ...       ...         ...         ...       ...     ...\n",
       "3375  2 BHK Apartment     Vasai         966        4968    0.4800       2\n",
       "3376  1 BHK Apartment   Naigaon         500        5200    0.2600       1\n",
       "3377  1 BHK Apartment   Naigaon         610        5573    0.3400       1\n",
       "3378  1 BHK Apartment   Naigaon         610        5245    0.3200       1\n",
       "3379  1 BHK Apartment   Naigaon         590        6101    0.3600       1\n",
       "\n",
       "[3380 rows x 6 columns]"
      ]
     },
     "execution_count": 18,
     "metadata": {},
     "output_type": "execute_result"
    }
   ],
   "source": [
    "df"
   ]
  },
  {
   "cell_type": "markdown",
   "metadata": {},
   "source": [
    "## **Remove the outliers that affect the data** ##"
   ]
  },
  {
   "cell_type": "code",
   "execution_count": 19,
   "metadata": {},
   "outputs": [],
   "source": [
    "def remove_bhk_outliers(df):\n",
    "    exclue_index=np.array([])\n",
    "    for location, location_df in df.groupby('Location'):\n",
    "        bhk_stats={}\n",
    "        for bhk, bhk_df in location_df.groupby('bhk_no'):\n",
    "            bhk_stats[bhk]={\n",
    "                'mean':bhk_df['price_sqft'].mean(),\n",
    "                'std':bhk_df['price_sqft'].std(),\n",
    "                'Count':bhk_df.shape[0]\n",
    "            }\n",
    "        for bhk, bhk_df in location_df.groupby('bhk_no'):\n",
    "            stats=bhk_stats.get(bhk-1)\n",
    "            if stats and stats['Count']:\n",
    "                exclue_index=np.append(exclue_index, bhk_df[bhk_df.price_sqft<(stats['mean'])].index.values)\n",
    "        return df.drop(exclue_index, axis='index')"
   ]
  },
  {
   "cell_type": "code",
   "execution_count": 20,
   "metadata": {},
   "outputs": [],
   "source": [
    "df2=remove_bhk_outliers(df)"
   ]
  },
  {
   "cell_type": "code",
   "execution_count": 21,
   "metadata": {},
   "outputs": [
    {
     "data": {
      "text/html": [
       "<div>\n",
       "<style scoped>\n",
       "    .dataframe tbody tr th:only-of-type {\n",
       "        vertical-align: middle;\n",
       "    }\n",
       "\n",
       "    .dataframe tbody tr th {\n",
       "        vertical-align: top;\n",
       "    }\n",
       "\n",
       "    .dataframe thead th {\n",
       "        text-align: right;\n",
       "    }\n",
       "</style>\n",
       "<table border=\"1\" class=\"dataframe\">\n",
       "  <thead>\n",
       "    <tr style=\"text-align: right;\">\n",
       "      <th></th>\n",
       "      <th>BHK</th>\n",
       "      <th>Location</th>\n",
       "      <th>Total sqft</th>\n",
       "      <th>price_sqft</th>\n",
       "      <th>price_cr</th>\n",
       "      <th>bhk_no</th>\n",
       "    </tr>\n",
       "  </thead>\n",
       "  <tbody>\n",
       "    <tr>\n",
       "      <th>0</th>\n",
       "      <td>3 BHK Apartment</td>\n",
       "      <td>Chembur</td>\n",
       "      <td>984</td>\n",
       "      <td>31000</td>\n",
       "      <td>3.0500</td>\n",
       "      <td>3</td>\n",
       "    </tr>\n",
       "    <tr>\n",
       "      <th>1</th>\n",
       "      <td>2 BHK Apartment</td>\n",
       "      <td>Kurla</td>\n",
       "      <td>598</td>\n",
       "      <td>23913</td>\n",
       "      <td>1.4200</td>\n",
       "      <td>2</td>\n",
       "    </tr>\n",
       "    <tr>\n",
       "      <th>2</th>\n",
       "      <td>2 BHK Apartment</td>\n",
       "      <td>Malad</td>\n",
       "      <td>738</td>\n",
       "      <td>21000</td>\n",
       "      <td>1.5400</td>\n",
       "      <td>2</td>\n",
       "    </tr>\n",
       "    <tr>\n",
       "      <th>3</th>\n",
       "      <td>3 BHK Apartment</td>\n",
       "      <td>Rasayani</td>\n",
       "      <td>644</td>\n",
       "      <td>10676</td>\n",
       "      <td>0.6875</td>\n",
       "      <td>3</td>\n",
       "    </tr>\n",
       "    <tr>\n",
       "      <th>4</th>\n",
       "      <td>2 BHK Apartment</td>\n",
       "      <td>Neral</td>\n",
       "      <td>427</td>\n",
       "      <td>5756</td>\n",
       "      <td>0.2458</td>\n",
       "      <td>2</td>\n",
       "    </tr>\n",
       "    <tr>\n",
       "      <th>...</th>\n",
       "      <td>...</td>\n",
       "      <td>...</td>\n",
       "      <td>...</td>\n",
       "      <td>...</td>\n",
       "      <td>...</td>\n",
       "      <td>...</td>\n",
       "    </tr>\n",
       "    <tr>\n",
       "      <th>3375</th>\n",
       "      <td>2 BHK Apartment</td>\n",
       "      <td>Vasai</td>\n",
       "      <td>966</td>\n",
       "      <td>4968</td>\n",
       "      <td>0.4800</td>\n",
       "      <td>2</td>\n",
       "    </tr>\n",
       "    <tr>\n",
       "      <th>3376</th>\n",
       "      <td>1 BHK Apartment</td>\n",
       "      <td>Naigaon</td>\n",
       "      <td>500</td>\n",
       "      <td>5200</td>\n",
       "      <td>0.2600</td>\n",
       "      <td>1</td>\n",
       "    </tr>\n",
       "    <tr>\n",
       "      <th>3377</th>\n",
       "      <td>1 BHK Apartment</td>\n",
       "      <td>Naigaon</td>\n",
       "      <td>610</td>\n",
       "      <td>5573</td>\n",
       "      <td>0.3400</td>\n",
       "      <td>1</td>\n",
       "    </tr>\n",
       "    <tr>\n",
       "      <th>3378</th>\n",
       "      <td>1 BHK Apartment</td>\n",
       "      <td>Naigaon</td>\n",
       "      <td>610</td>\n",
       "      <td>5245</td>\n",
       "      <td>0.3200</td>\n",
       "      <td>1</td>\n",
       "    </tr>\n",
       "    <tr>\n",
       "      <th>3379</th>\n",
       "      <td>1 BHK Apartment</td>\n",
       "      <td>Naigaon</td>\n",
       "      <td>590</td>\n",
       "      <td>6101</td>\n",
       "      <td>0.3600</td>\n",
       "      <td>1</td>\n",
       "    </tr>\n",
       "  </tbody>\n",
       "</table>\n",
       "<p>3356 rows × 6 columns</p>\n",
       "</div>"
      ],
      "text/plain": [
       "                  BHK  Location  Total sqft  price_sqft  price_cr  bhk_no\n",
       "0     3 BHK Apartment   Chembur         984       31000    3.0500       3\n",
       "1     2 BHK Apartment     Kurla         598       23913    1.4200       2\n",
       "2     2 BHK Apartment     Malad         738       21000    1.5400       2\n",
       "3     3 BHK Apartment  Rasayani         644       10676    0.6875       3\n",
       "4     2 BHK Apartment     Neral         427        5756    0.2458       2\n",
       "...               ...       ...         ...         ...       ...     ...\n",
       "3375  2 BHK Apartment     Vasai         966        4968    0.4800       2\n",
       "3376  1 BHK Apartment   Naigaon         500        5200    0.2600       1\n",
       "3377  1 BHK Apartment   Naigaon         610        5573    0.3400       1\n",
       "3378  1 BHK Apartment   Naigaon         610        5245    0.3200       1\n",
       "3379  1 BHK Apartment   Naigaon         590        6101    0.3600       1\n",
       "\n",
       "[3356 rows x 6 columns]"
      ]
     },
     "execution_count": 21,
     "metadata": {},
     "output_type": "execute_result"
    }
   ],
   "source": [
    "df2"
   ]
  },
  {
   "cell_type": "markdown",
   "metadata": {},
   "source": [
    "## **Let the scatter plot to find the data point and how they are relate**"
   ]
  },
  {
   "cell_type": "code",
   "execution_count": 22,
   "metadata": {},
   "outputs": [
    {
     "data": {
      "image/png": "[encoded data removed]",
      "text/plain": [
       "<Figure size 1500x1000 with 1 Axes>"
      ]
     },
     "metadata": {},
     "output_type": "display_data"
    }
   ],
   "source": [
    "def plot_scatter_chart(df, location):\n",
    "    bhk2=df[(df.Location==location) & (df.BHK=='2 BHK Apartment')]\n",
    "    bhk3=df[(df.Location==location) & (df.BHK=='3 BHK Apartment')]\n",
    "    plt.rcParams['figure.figsize']=(15,10)\n",
    "    plt.scatter(bhk2['Total sqft'], bhk2['price_cr'], color='b', label='2 BHK', s=50)\n",
    "    plt.scatter(bhk3['Total sqft'], bhk3['price_cr'], marker='+', color='r', label='3 BHK', s=50)\n",
    "    plt.xlabel(\"Total Square Feet Area\")\n",
    "    plt.ylabel('Price Per Square Feet')\n",
    "    plt.title(location)\n",
    "    plt.legend()\n",
    "plot_scatter_chart(df2, 'Malad')\n"
   ]
  },
  {
   "cell_type": "markdown",
   "metadata": {},
   "source": [
    "## **Price_per_sqft v/s Count Plot**"
   ]
  },
  {
   "cell_type": "code",
   "execution_count": 23,
   "metadata": {},
   "outputs": [
    {
     "data": {
      "text/plain": [
       "Text(0, 0.5, 'Count')"
      ]
     },
     "execution_count": 23,
     "metadata": {},
     "output_type": "execute_result"
    },
    {
     "data": {
      "image/png": "[encoded data removed]",
      "text/plain": [
       "<Figure size 2000x1000 with 1 Axes>"
      ]
     },
     "metadata": {},
     "output_type": "display_data"
    }
   ],
   "source": [
    "plt.rcParams['figure.figsize']=(20, 10)\n",
    "plt.hist(df2.price_sqft, rwidth=.8)\n",
    "plt.xlabel('Price Per Square Feet')\n",
    "plt.ylabel('Count')"
   ]
  },
  {
   "cell_type": "code",
   "execution_count": 24,
   "metadata": {},
   "outputs": [],
   "source": [
    "df2.drop(columns=['BHK'], inplace=True)"
   ]
  },
  {
   "cell_type": "markdown",
   "metadata": {},
   "source": [
    "# **Dummy-Encoding and remove the first column** #"
   ]
  },
  {
   "cell_type": "code",
   "execution_count": 25,
   "metadata": {},
   "outputs": [],
   "source": [
    "dummies=pd.get_dummies(df2['Location'], drop_first=True)"
   ]
  },
  {
   "cell_type": "code",
   "execution_count": 26,
   "metadata": {},
   "outputs": [
    {
     "data": {
      "text/html": [
       "<div>\n",
       "<style scoped>\n",
       "    .dataframe tbody tr th:only-of-type {\n",
       "        vertical-align: middle;\n",
       "    }\n",
       "\n",
       "    .dataframe tbody tr th {\n",
       "        vertical-align: top;\n",
       "    }\n",
       "\n",
       "    .dataframe thead th {\n",
       "        text-align: right;\n",
       "    }\n",
       "</style>\n",
       "<table border=\"1\" class=\"dataframe\">\n",
       "  <thead>\n",
       "    <tr style=\"text-align: right;\">\n",
       "      <th></th>\n",
       "      <th>Location</th>\n",
       "      <th>Total sqft</th>\n",
       "      <th>price_sqft</th>\n",
       "      <th>price_cr</th>\n",
       "      <th>bhk_no</th>\n",
       "      <th>Ambernath</th>\n",
       "      <th>Andheri</th>\n",
       "      <th>Badlapur</th>\n",
       "      <th>Bandra</th>\n",
       "      <th>Bhandup</th>\n",
       "      <th>...</th>\n",
       "      <th>Palghar</th>\n",
       "      <th>Panvel</th>\n",
       "      <th>Powai</th>\n",
       "      <th>Rasayani</th>\n",
       "      <th>Santacruz</th>\n",
       "      <th>Taloja</th>\n",
       "      <th>Thane</th>\n",
       "      <th>Ulwe</th>\n",
       "      <th>Vasai</th>\n",
       "      <th>Virar</th>\n",
       "    </tr>\n",
       "  </thead>\n",
       "  <tbody>\n",
       "    <tr>\n",
       "      <th>0</th>\n",
       "      <td>Chembur</td>\n",
       "      <td>984</td>\n",
       "      <td>31000</td>\n",
       "      <td>3.0500</td>\n",
       "      <td>3</td>\n",
       "      <td>False</td>\n",
       "      <td>False</td>\n",
       "      <td>False</td>\n",
       "      <td>False</td>\n",
       "      <td>False</td>\n",
       "      <td>...</td>\n",
       "      <td>False</td>\n",
       "      <td>False</td>\n",
       "      <td>False</td>\n",
       "      <td>False</td>\n",
       "      <td>False</td>\n",
       "      <td>False</td>\n",
       "      <td>False</td>\n",
       "      <td>False</td>\n",
       "      <td>False</td>\n",
       "      <td>False</td>\n",
       "    </tr>\n",
       "    <tr>\n",
       "      <th>1</th>\n",
       "      <td>Kurla</td>\n",
       "      <td>598</td>\n",
       "      <td>23913</td>\n",
       "      <td>1.4200</td>\n",
       "      <td>2</td>\n",
       "      <td>False</td>\n",
       "      <td>False</td>\n",
       "      <td>False</td>\n",
       "      <td>False</td>\n",
       "      <td>False</td>\n",
       "      <td>...</td>\n",
       "      <td>False</td>\n",
       "      <td>False</td>\n",
       "      <td>False</td>\n",
       "      <td>False</td>\n",
       "      <td>False</td>\n",
       "      <td>False</td>\n",
       "      <td>False</td>\n",
       "      <td>False</td>\n",
       "      <td>False</td>\n",
       "      <td>False</td>\n",
       "    </tr>\n",
       "    <tr>\n",
       "      <th>2</th>\n",
       "      <td>Malad</td>\n",
       "      <td>738</td>\n",
       "      <td>21000</td>\n",
       "      <td>1.5400</td>\n",
       "      <td>2</td>\n",
       "      <td>False</td>\n",
       "      <td>False</td>\n",
       "      <td>False</td>\n",
       "      <td>False</td>\n",
       "      <td>False</td>\n",
       "      <td>...</td>\n",
       "      <td>False</td>\n",
       "      <td>False</td>\n",
       "      <td>False</td>\n",
       "      <td>False</td>\n",
       "      <td>False</td>\n",
       "      <td>False</td>\n",
       "      <td>False</td>\n",
       "      <td>False</td>\n",
       "      <td>False</td>\n",
       "      <td>False</td>\n",
       "    </tr>\n",
       "    <tr>\n",
       "      <th>3</th>\n",
       "      <td>Rasayani</td>\n",
       "      <td>644</td>\n",
       "      <td>10676</td>\n",
       "      <td>0.6875</td>\n",
       "      <td>3</td>\n",
       "      <td>False</td>\n",
       "      <td>False</td>\n",
       "      <td>False</td>\n",
       "      <td>False</td>\n",
       "      <td>False</td>\n",
       "      <td>...</td>\n",
       "      <td>False</td>\n",
       "      <td>False</td>\n",
       "      <td>False</td>\n",
       "      <td>True</td>\n",
       "      <td>False</td>\n",
       "      <td>False</td>\n",
       "      <td>False</td>\n",
       "      <td>False</td>\n",
       "      <td>False</td>\n",
       "      <td>False</td>\n",
       "    </tr>\n",
       "    <tr>\n",
       "      <th>4</th>\n",
       "      <td>Neral</td>\n",
       "      <td>427</td>\n",
       "      <td>5756</td>\n",
       "      <td>0.2458</td>\n",
       "      <td>2</td>\n",
       "      <td>False</td>\n",
       "      <td>False</td>\n",
       "      <td>False</td>\n",
       "      <td>False</td>\n",
       "      <td>False</td>\n",
       "      <td>...</td>\n",
       "      <td>False</td>\n",
       "      <td>False</td>\n",
       "      <td>False</td>\n",
       "      <td>False</td>\n",
       "      <td>False</td>\n",
       "      <td>False</td>\n",
       "      <td>False</td>\n",
       "      <td>False</td>\n",
       "      <td>False</td>\n",
       "      <td>False</td>\n",
       "    </tr>\n",
       "    <tr>\n",
       "      <th>...</th>\n",
       "      <td>...</td>\n",
       "      <td>...</td>\n",
       "      <td>...</td>\n",
       "      <td>...</td>\n",
       "      <td>...</td>\n",
       "      <td>...</td>\n",
       "      <td>...</td>\n",
       "      <td>...</td>\n",
       "      <td>...</td>\n",
       "      <td>...</td>\n",
       "      <td>...</td>\n",
       "      <td>...</td>\n",
       "      <td>...</td>\n",
       "      <td>...</td>\n",
       "      <td>...</td>\n",
       "      <td>...</td>\n",
       "      <td>...</td>\n",
       "      <td>...</td>\n",
       "      <td>...</td>\n",
       "      <td>...</td>\n",
       "      <td>...</td>\n",
       "    </tr>\n",
       "    <tr>\n",
       "      <th>3375</th>\n",
       "      <td>Vasai</td>\n",
       "      <td>966</td>\n",
       "      <td>4968</td>\n",
       "      <td>0.4800</td>\n",
       "      <td>2</td>\n",
       "      <td>False</td>\n",
       "      <td>False</td>\n",
       "      <td>False</td>\n",
       "      <td>False</td>\n",
       "      <td>False</td>\n",
       "      <td>...</td>\n",
       "      <td>False</td>\n",
       "      <td>False</td>\n",
       "      <td>False</td>\n",
       "      <td>False</td>\n",
       "      <td>False</td>\n",
       "      <td>False</td>\n",
       "      <td>False</td>\n",
       "      <td>False</td>\n",
       "      <td>True</td>\n",
       "      <td>False</td>\n",
       "    </tr>\n",
       "    <tr>\n",
       "      <th>3376</th>\n",
       "      <td>Naigaon</td>\n",
       "      <td>500</td>\n",
       "      <td>5200</td>\n",
       "      <td>0.2600</td>\n",
       "      <td>1</td>\n",
       "      <td>False</td>\n",
       "      <td>False</td>\n",
       "      <td>False</td>\n",
       "      <td>False</td>\n",
       "      <td>False</td>\n",
       "      <td>...</td>\n",
       "      <td>False</td>\n",
       "      <td>False</td>\n",
       "      <td>False</td>\n",
       "      <td>False</td>\n",
       "      <td>False</td>\n",
       "      <td>False</td>\n",
       "      <td>False</td>\n",
       "      <td>False</td>\n",
       "      <td>False</td>\n",
       "      <td>False</td>\n",
       "    </tr>\n",
       "    <tr>\n",
       "      <th>3377</th>\n",
       "      <td>Naigaon</td>\n",
       "      <td>610</td>\n",
       "      <td>5573</td>\n",
       "      <td>0.3400</td>\n",
       "      <td>1</td>\n",
       "      <td>False</td>\n",
       "      <td>False</td>\n",
       "      <td>False</td>\n",
       "      <td>False</td>\n",
       "      <td>False</td>\n",
       "      <td>...</td>\n",
       "      <td>False</td>\n",
       "      <td>False</td>\n",
       "      <td>False</td>\n",
       "      <td>False</td>\n",
       "      <td>False</td>\n",
       "      <td>False</td>\n",
       "      <td>False</td>\n",
       "      <td>False</td>\n",
       "      <td>False</td>\n",
       "      <td>False</td>\n",
       "    </tr>\n",
       "    <tr>\n",
       "      <th>3378</th>\n",
       "      <td>Naigaon</td>\n",
       "      <td>610</td>\n",
       "      <td>5245</td>\n",
       "      <td>0.3200</td>\n",
       "      <td>1</td>\n",
       "      <td>False</td>\n",
       "      <td>False</td>\n",
       "      <td>False</td>\n",
       "      <td>False</td>\n",
       "      <td>False</td>\n",
       "      <td>...</td>\n",
       "      <td>False</td>\n",
       "      <td>False</td>\n",
       "      <td>False</td>\n",
       "      <td>False</td>\n",
       "      <td>False</td>\n",
       "      <td>False</td>\n",
       "      <td>False</td>\n",
       "      <td>False</td>\n",
       "      <td>False</td>\n",
       "      <td>False</td>\n",
       "    </tr>\n",
       "    <tr>\n",
       "      <th>3379</th>\n",
       "      <td>Naigaon</td>\n",
       "      <td>590</td>\n",
       "      <td>6101</td>\n",
       "      <td>0.3600</td>\n",
       "      <td>1</td>\n",
       "      <td>False</td>\n",
       "      <td>False</td>\n",
       "      <td>False</td>\n",
       "      <td>False</td>\n",
       "      <td>False</td>\n",
       "      <td>...</td>\n",
       "      <td>False</td>\n",
       "      <td>False</td>\n",
       "      <td>False</td>\n",
       "      <td>False</td>\n",
       "      <td>False</td>\n",
       "      <td>False</td>\n",
       "      <td>False</td>\n",
       "      <td>False</td>\n",
       "      <td>False</td>\n",
       "      <td>False</td>\n",
       "    </tr>\n",
       "  </tbody>\n",
       "</table>\n",
       "<p>3356 rows × 44 columns</p>\n",
       "</div>"
      ],
      "text/plain": [
       "      Location  Total sqft  price_sqft  price_cr  bhk_no  Ambernath  Andheri  \\\n",
       "0      Chembur         984       31000    3.0500       3      False    False   \n",
       "1        Kurla         598       23913    1.4200       2      False    False   \n",
       "2        Malad         738       21000    1.5400       2      False    False   \n",
       "3     Rasayani         644       10676    0.6875       3      False    False   \n",
       "4        Neral         427        5756    0.2458       2      False    False   \n",
       "...        ...         ...         ...       ...     ...        ...      ...   \n",
       "3375     Vasai         966        4968    0.4800       2      False    False   \n",
       "3376   Naigaon         500        5200    0.2600       1      False    False   \n",
       "3377   Naigaon         610        5573    0.3400       1      False    False   \n",
       "3378   Naigaon         610        5245    0.3200       1      False    False   \n",
       "3379   Naigaon         590        6101    0.3600       1      False    False   \n",
       "\n",
       "      Badlapur  Bandra  Bhandup  ...  Palghar  Panvel  Powai  Rasayani  \\\n",
       "0        False   False    False  ...    False   False  False     False   \n",
       "1        False   False    False  ...    False   False  False     False   \n",
       "2        False   False    False  ...    False   False  False     False   \n",
       "3        False   False    False  ...    False   False  False      True   \n",
       "4        False   False    False  ...    False   False  False     False   \n",
       "...        ...     ...      ...  ...      ...     ...    ...       ...   \n",
       "3375     False   False    False  ...    False   False  False     False   \n",
       "3376     False   False    False  ...    False   False  False     False   \n",
       "3377     False   False    False  ...    False   False  False     False   \n",
       "3378     False   False    False  ...    False   False  False     False   \n",
       "3379     False   False    False  ...    False   False  False     False   \n",
       "\n",
       "      Santacruz  Taloja  Thane   Ulwe  Vasai  Virar  \n",
       "0         False   False  False  False  False  False  \n",
       "1         False   False  False  False  False  False  \n",
       "2         False   False  False  False  False  False  \n",
       "3         False   False  False  False  False  False  \n",
       "4         False   False  False  False  False  False  \n",
       "...         ...     ...    ...    ...    ...    ...  \n",
       "3375      False   False  False  False   True  False  \n",
       "3376      False   False  False  False  False  False  \n",
       "3377      False   False  False  False  False  False  \n",
       "3378      False   False  False  False  False  False  \n",
       "3379      False   False  False  False  False  False  \n",
       "\n",
       "[3356 rows x 44 columns]"
      ]
     },
     "execution_count": 26,
     "metadata": {},
     "output_type": "execute_result"
    }
   ],
   "source": [
    "df3=pd.concat([df2, dummies], axis='columns')\n",
    "df3"
   ]
  },
  {
   "cell_type": "code",
   "execution_count": 27,
   "metadata": {},
   "outputs": [],
   "source": [
    "df3.shape\n",
    "df3.drop(columns=['Location'], inplace=True)"
   ]
  },
  {
   "cell_type": "code",
   "execution_count": 28,
   "metadata": {},
   "outputs": [],
   "source": [
    "x=df3.drop('price_cr', axis='columns')\n",
    "y=df3.price_cr"
   ]
  },
  {
   "cell_type": "markdown",
   "metadata": {},
   "source": [
    "### **Split the data into train test for check which model is best for the project**"
   ]
  },
  {
   "cell_type": "code",
   "execution_count": 29,
   "metadata": {},
   "outputs": [],
   "source": [
    "x_train, x_test, y_train, y_test=train_test_split(x, y, test_size=.2,random_state=10)"
   ]
  },
  {
   "cell_type": "markdown",
   "metadata": {},
   "source": [
    "LinearRegression model i have find that it has Accuracy score of 94.6% but i want to check other also for get much better result"
   ]
  },
  {
   "cell_type": "code",
   "execution_count": 30,
   "metadata": {},
   "outputs": [
    {
     "data": {
      "text/plain": [
       "0.9467789255611055"
      ]
     },
     "execution_count": 30,
     "metadata": {},
     "output_type": "execute_result"
    }
   ],
   "source": [
    "lr=LinearRegression()\n",
    "lr.fit(x_train, y_train)\n",
    "lr.score(x_test, y_test)"
   ]
  },
  {
   "cell_type": "markdown",
   "metadata": {},
   "source": [
    "Here the mdoel avg got 88.12 Accuracy but i can check more model to find such that we get better score"
   ]
  },
  {
   "cell_type": "code",
   "execution_count": 31,
   "metadata": {},
   "outputs": [
    {
     "data": {
      "text/plain": [
       "88.12915856014436"
      ]
     },
     "execution_count": 31,
     "metadata": {},
     "output_type": "execute_result"
    }
   ],
   "source": [
    "from sklearn.model_selection import ShuffleSplit, cross_val_score\n",
    "cv=ShuffleSplit(n_splits=8, test_size=.2, random_state=0)\n",
    "np.mean(cross_val_score(LinearRegression(), x, y, cv=cv))*100"
   ]
  },
  {
   "cell_type": "markdown",
   "metadata": {},
   "source": [
    "Here i am using the GridSearchCV Work and i am using this model to train and which model get the better score\n",
    "* Lasso\n",
    "* LinearRegression\n",
    "* DecisionTreeRegressor"
   ]
  },
  {
   "cell_type": "code",
   "execution_count": 32,
   "metadata": {},
   "outputs": [],
   "source": [
    "from sklearn.model_selection import GridSearchCV\n",
    "from sklearn.linear_model import Lasso\n",
    "from sklearn.tree import DecisionTreeRegressor\n",
    "\n",
    "def find_the_best_model(x,y):\n",
    "    algos={\n",
    "        'Linear_Regression':{\n",
    "            'Model':LinearRegression(),\n",
    "            'Params':{\n",
    "                'fit_intercept': [True, False],\n",
    "                'copy_X': [True, False],\n",
    "                'n_jobs': [-1, 1],\n",
    "            }\n",
    "        },\n",
    "        'Lasso':{\n",
    "            'Model':Lasso(),\n",
    "            'Params':{\n",
    "                'alpha':(0.1, 1.0, 10.0),\n",
    "                'max_iter':(1000, 5000, 10000),\n",
    "                'selection':['random', 'cyclic']\n",
    "            }\n",
    "        },\n",
    "        'Decision_tree':{\n",
    "            'Model':DecisionTreeRegressor(),\n",
    "            'Params':{\n",
    "                'criterion':['mse', 'friedman_mse'],\n",
    "                'splitter':['best', 'random'],\n",
    "                'max_depth':[3, 5, 10],\n",
    "                'min_samples_split':[2, 5, 10],\n",
    "                'min_samples_leaf':[1, 5, 10],\n",
    "            }\n",
    "        }\n",
    "    }\n",
    "    scores=[]\n",
    "    cv=ShuffleSplit(n_splits=6, test_size=.2, random_state=0)\n",
    "    for algo_name, config in algos.items():\n",
    "        gs=GridSearchCV(config['Model'], config['Params'], cv=cv, return_train_score=False)\n",
    "        gs.fit(x,y)\n",
    "        scores.append({\n",
    "            'model':algo_name,\n",
    "            'best_score':gs.best_score_,\n",
    "            'best_params':gs.best_params_\n",
    "        })\n",
    "    return pd.DataFrame(scores, columns=['model', 'best_score', 'best_params'])"
   ]
  },
  {
   "cell_type": "markdown",
   "metadata": {},
   "source": [
    "Here we the DecisionTreeRegressor as 97.9% accuracy so i am using the model with this params\n",
    "\n",
    "\n",
    "params= {\n",
    "    \n",
    "    criterion='friedman_mse',\n",
    "    \n",
    "    max_depth=10,\n",
    "    \n",
    "    min_samples_leaf=1, \n",
    "    \n",
    "    min_samples_split=2, \n",
    "    \n",
    "    splitter='random', \n",
    "    \n",
    "    random_state=30\n",
    "}\n",
    "\n",
    "This parameter is and it score max among all"
   ]
  },
  {
   "cell_type": "code",
   "execution_count": 33,
   "metadata": {},
   "outputs": [
    {
     "name": "stderr",
     "output_type": "stream",
     "text": [
      "C:\\Users\\Manav Darji\\AppData\\Local\\Packages\\PythonSoftwareFoundation.Python.3.12_qbz5n2kfra8p0\\LocalCache\\local-packages\\Python312\\site-packages\\sklearn\\model_selection\\_validation.py:540: FitFailedWarning: \n",
      "324 fits failed out of a total of 648.\n",
      "The score on these train-test partitions for these parameters will be set to nan.\n",
      "If these failures are not expected, you can try to debug them by setting error_score='raise'.\n",
      "\n",
      "Below are more details about the failures:\n",
      "--------------------------------------------------------------------------------\n",
      "324 fits failed with the following error:\n",
      "Traceback (most recent call last):\n",
      "  File \"C:\\Users\\Manav Darji\\AppData\\Local\\Packages\\PythonSoftwareFoundation.Python.3.12_qbz5n2kfra8p0\\LocalCache\\local-packages\\Python312\\site-packages\\sklearn\\model_selection\\_validation.py\", line 888, in _fit_and_score\n",
      "    estimator.fit(X_train, y_train, **fit_params)\n",
      "  File \"C:\\Users\\Manav Darji\\AppData\\Local\\Packages\\PythonSoftwareFoundation.Python.3.12_qbz5n2kfra8p0\\LocalCache\\local-packages\\Python312\\site-packages\\sklearn\\base.py\", line 1466, in wrapper\n",
      "    estimator._validate_params()\n",
      "  File \"C:\\Users\\Manav Darji\\AppData\\Local\\Packages\\PythonSoftwareFoundation.Python.3.12_qbz5n2kfra8p0\\LocalCache\\local-packages\\Python312\\site-packages\\sklearn\\base.py\", line 666, in _validate_params\n",
      "    validate_parameter_constraints(\n",
      "  File \"C:\\Users\\Manav Darji\\AppData\\Local\\Packages\\PythonSoftwareFoundation.Python.3.12_qbz5n2kfra8p0\\LocalCache\\local-packages\\Python312\\site-packages\\sklearn\\utils\\_param_validation.py\", line 95, in validate_parameter_constraints\n",
      "    raise InvalidParameterError(\n",
      "sklearn.utils._param_validation.InvalidParameterError: The 'criterion' parameter of DecisionTreeRegressor must be a str among {'friedman_mse', 'squared_error', 'absolute_error', 'poisson'}. Got 'mse' instead.\n",
      "\n",
      "  warnings.warn(some_fits_failed_message, FitFailedWarning)\n",
      "C:\\Users\\Manav Darji\\AppData\\Local\\Packages\\PythonSoftwareFoundation.Python.3.12_qbz5n2kfra8p0\\LocalCache\\local-packages\\Python312\\site-packages\\sklearn\\model_selection\\_search.py:1102: UserWarning: One or more of the test scores are non-finite: [       nan        nan        nan        nan        nan        nan\n",
      "        nan        nan        nan        nan        nan        nan\n",
      "        nan        nan        nan        nan        nan        nan\n",
      "        nan        nan        nan        nan        nan        nan\n",
      "        nan        nan        nan        nan        nan        nan\n",
      "        nan        nan        nan        nan        nan        nan\n",
      "        nan        nan        nan        nan        nan        nan\n",
      "        nan        nan        nan        nan        nan        nan\n",
      "        nan        nan        nan        nan        nan        nan\n",
      " 0.58505452 0.33415425 0.59544442 0.37404532 0.58505452 0.50670794\n",
      " 0.66072118 0.36634533 0.66072118 0.30767582 0.66072118 0.48186253\n",
      " 0.54966528 0.37665963 0.54966528 0.31700578 0.54966528 0.41127141\n",
      " 0.82666831 0.75518058 0.81082256 0.77208715 0.82666831 0.67652164\n",
      " 0.82894456 0.52968459 0.82894456 0.44791401 0.82894456 0.56394691\n",
      " 0.69140431 0.55374184 0.69140431 0.47231599 0.69140431 0.60980717\n",
      " 0.91690629 0.92832782 0.9169138  0.95823524 0.91396512 0.78124205\n",
      " 0.89612512 0.65794093 0.89612503 0.62319594 0.89612143 0.61562333\n",
      " 0.74105546 0.71370863 0.74105546 0.64449183 0.74105546 0.69834752]\n",
      "  warnings.warn(\n"
     ]
    }
   ],
   "source": [
    "x=df3.drop('price_cr', axis='columns')\n",
    "y=df3.price_cr\n",
    "best_scores=find_the_best_model(x, y)"
   ]
  },
  {
   "cell_type": "code",
   "execution_count": 34,
   "metadata": {},
   "outputs": [],
   "source": [
    "params=best_scores['best_params'][2]"
   ]
  },
  {
   "cell_type": "code",
   "execution_count": 35,
   "metadata": {},
   "outputs": [
    {
     "data": {
      "text/plain": [
       "{'criterion': 'friedman_mse',\n",
       " 'max_depth': 10,\n",
       " 'min_samples_leaf': 1,\n",
       " 'min_samples_split': 5,\n",
       " 'splitter': 'random'}"
      ]
     },
     "execution_count": 35,
     "metadata": {},
     "output_type": "execute_result"
    }
   ],
   "source": [
    "params"
   ]
  },
  {
   "cell_type": "code",
   "execution_count": 36,
   "metadata": {},
   "outputs": [
    {
     "data": {
      "text/plain": [
       "0.9790633929814301"
      ]
     },
     "execution_count": 36,
     "metadata": {},
     "output_type": "execute_result"
    }
   ],
   "source": [
    "model_decision_tree=DecisionTreeRegressor(criterion='friedman_mse', max_depth=10, min_samples_leaf=1, min_samples_split=2, splitter='random', random_state=30)\n",
    "\n",
    "model_decision_tree.fit(x_train,y_train)\n",
    "model_decision_tree.score(x_test, y_test)"
   ]
  },
  {
   "cell_type": "markdown",
   "metadata": {},
   "source": [
    "Check with random data to find the price"
   ]
  },
  {
   "cell_type": "code",
   "execution_count": 37,
   "metadata": {},
   "outputs": [
    {
     "name": "stderr",
     "output_type": "stream",
     "text": [
      "C:\\Users\\Manav Darji\\AppData\\Local\\Packages\\PythonSoftwareFoundation.Python.3.12_qbz5n2kfra8p0\\LocalCache\\local-packages\\Python312\\site-packages\\sklearn\\base.py:493: UserWarning: X does not have valid feature names, but DecisionTreeRegressor was fitted with feature names\n",
      "  warnings.warn(\n"
     ]
    },
    {
     "data": {
      "text/plain": [
       "7241118"
      ]
     },
     "execution_count": 37,
     "metadata": {},
     "output_type": "execute_result"
    }
   ],
   "source": [
    "import math\n",
    "def predict_price(location, price_sqft, bhk_no, total_sqft):\n",
    "    loc_index=np.where(x.columns==location)[0][0]\n",
    "    Data=np.zeros(len(x.columns))\n",
    "    Data[0]=total_sqft\n",
    "    Data[1]=price_sqft\n",
    "    Data[3]=bhk_no\n",
    "    if loc_index>=0:\n",
    "        Data[loc_index]=1\n",
    "    return math.ceil(model_decision_tree.predict([Data])[0]*1_00_00_000)\n",
    "\n",
    "predict_price('Ambernath',31000, 984, 2)"
   ]
  },
  {
   "cell_type": "markdown",
   "metadata": {},
   "source": [
    "Convert this model into pickel file"
   ]
  },
  {
   "cell_type": "code",
   "execution_count": 38,
   "metadata": {},
   "outputs": [],
   "source": [
    "# import pickle\n",
    "# with open('Mumbai-price-pridection.pickle','wb') as f:\n",
    "#     pickle.dump(model_decision_tree, f)"
   ]
  }
 ],
 "metadata": {
  "kernelspec": {
   "display_name": "Python 3",
   "language": "python",
   "name": "python3"
  },
  "language_info": {
   "codemirror_mode": {
    "name": "ipython",
    "version": 3
   },
   "file_extension": ".py",
   "mimetype": "text/x-python",
   "name": "python",
   "nbconvert_exporter": "python",
   "pygments_lexer": "ipython3",
   "version": "3.12.4"
  }
 },
 "nbformat": 4,
 "nbformat_minor": 2
}
